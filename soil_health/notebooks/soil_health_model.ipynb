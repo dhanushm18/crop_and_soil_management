{
 "cells": [
  {
   "cell_type": "markdown",
   "metadata": {},
   "source": [
    "# Soil Health Assessment Model Development\n",
    "\n",
    "This notebook demonstrates the development of machine learning models to predict:\n",
    "1. Soil fertility level (High/Medium/Low)\n",
    "2. Suitable crops\n",
    "3. Soil quality score (0-100)"
   ]
  },
  {
   "cell_type": "code",
   "execution_count": null,
   "metadata": {},
   "source": [
    "import pandas as pd\n",
    "import numpy as np\n",
    "import matplotlib.pyplot as plt\n",
    "import seaborn as sns\n",
    "from sklearn.model_selection import train_test_split\n",
    "from sklearn.ensemble import RandomForestClassifier, RandomForestRegressor\n",
    "from sklearn.preprocessing import StandardScaler, LabelEncoder\n",
    "from sklearn.metrics import accuracy_score, classification_report, mean_squared_error, r2_score\n",
    "from sklearn.multioutput import MultiOutputClassifier\n",
    "\n",
    "# Set random seed for reproducibility\n",
    "np.random.seed(42)"
   ]
  },
  {
   "cell_type": "markdown",
   "metadata": {},
   "source": [
    "## 1. Load and Explore the Dataset"
   ]
  },
  {
   "cell_type": "code",
   "execution_count": null,
   "metadata": {},
   "source": [
    "# Load the dataset\n",
    "df = pd.read_csv('../data/soil_dataset.csv')\n",
    "\n",
    "# Display the first few rows\n",
    "print(f\"Dataset shape: {df.shape}\")\n",
    "df.head()"
   ]
  },
  {
   "cell_type": "code",
   "execution_count": null,
   "metadata": {},
   "source": [
    "# Check for missing values\n",
    "df.isnull().sum()"
   ]
  },
  {
   "cell_type": "code",
   "execution_count": null,
   "metadata": {},
   "source": [
    "# Statistical summary\n",
    "df.describe()"
   ]
  },
  {
   "cell_type": "code",
   "execution_count": null,
   "metadata": {},
   "source": [
    "# Distribution of fertility levels\n",
    "plt.figure(figsize=(10, 6))\n",
    "sns.countplot(x='fertility_level', data=df)\n",
    "plt.title('Distribution of Soil Fertility Levels')\n",
    "plt.show()"
   ]
  },
  {
   "cell_type": "code",
   "execution_count": null,
   "metadata": {},
   "source": [
    "# Distribution of quality scores\n",
    "plt.figure(figsize=(10, 6))\n",
    "sns.histplot(df['quality_score'], bins=20, kde=True)\n",
    "plt.title('Distribution of Soil Quality Scores')\n",
    "plt.show()"
   ]
  },
  {
   "cell_type": "code",
   "execution_count": null,
   "metadata": {},
   "source": [
    "# Correlation matrix\n",
    "plt.figure(figsize=(12, 10))\n",
    "corr = df.select_dtypes(include=[np.number]).corr()\n",
    "sns.heatmap(corr, annot=True, cmap='coolwarm', fmt='.2f')\n",
    "plt.title('Correlation Matrix of Soil Parameters')\n",
    "plt.show()"
   ]
  },
  {
   "cell_type": "markdown",
   "metadata": {},
   "source": [
    "## 2. Prepare Data for Modeling"
   ]
  },
  {
   "cell_type": "code",
   "execution_count": null,
   "metadata": {},
   "source": [
    "# Encode the fertility level\n",
    "le = LabelEncoder()\n",
    "df['fertility_level_encoded'] = le.fit_transform(df['fertility_level'])\n",
    "fertility_classes = le.classes_\n",
    "print(f\"Fertility level classes: {fertility_classes}\")"
   ]
  },
  {
   "cell_type": "code",
   "execution_count": null,
   "metadata": {},
   "source": [
    "# Extract features and targets\n",
    "features = ['nitrogen', 'phosphorus', 'potassium', 'ph', 'ec', 'moisture', 'organic_matter']\n",
    "X = df[features]\n",
    "\n",
    "# Target for fertility level classification\n",
    "y_fertility = df['fertility_level_encoded']\n",
    "\n",
    "# Target for quality score regression\n",
    "y_quality = df['quality_score']\n",
    "\n",
    "# Split the data into training and testing sets\n",
    "X_train, X_test, y_fertility_train, y_fertility_test, y_quality_train, y_quality_test = train_test_split(\n",
    "    X, y_fertility, y_quality, test_size=0.2, random_state=42\n",
    ")\n",
    "\n",
    "# Scale the features\n",
    "scaler = StandardScaler()\n",
    "X_train_scaled = scaler.fit_transform(X_train)\n",
    "X_test_scaled = scaler.transform(X_test)"
   ]
  },
  {
   "cell_type": "markdown",
   "metadata": {},
   "source": [
    "## 3. Model for Soil Fertility Level Classification"
   ]
  },
  {
   "cell_type": "code",
   "execution_count": null,
   "metadata": {},
   "source": [
    "# Train a Random Forest classifier for fertility level\n",
    "rf_fertility = RandomForestClassifier(n_estimators=100, random_state=42)\n",
    "rf_fertility.fit(X_train_scaled, y_fertility_train)\n",
    "\n",
    "# Make predictions\n",
    "y_fertility_pred = rf_fertility.predict(X_test_scaled)\n",
    "\n",
    "# Evaluate the model\n",
    "fertility_accuracy = accuracy_score(y_fertility_test, y_fertility_pred)\n",
    "print(f\"Fertility Level Classification Accuracy: {fertility_accuracy:.4f}\")\n",
    "print(\"\\nClassification Report:\")\n",
    "print(classification_report(y_fertility_test, y_fertility_pred, target_names=fertility_classes))"
   ]
  },
  {
   "cell_type": "code",
   "execution_count": null,
   "metadata": {},
   "source": [
    "# Feature importance for fertility classification\n",
    "plt.figure(figsize=(10, 6))\n",
    "importances = rf_fertility.feature_importances_\n",
    "indices = np.argsort(importances)[::-1]\n",
    "\n",
    "plt.title('Feature Importance for Soil Fertility Classification')\n",
    "plt.bar(range(X_train.shape[1]), importances[indices], align='center')\n",
    "plt.xticks(range(X_train.shape[1]), [features[i] for i in indices], rotation=90)\n",
    "plt.tight_layout()\n",
    "plt.show()"
   ]
  },
  {
   "cell_type": "markdown",
   "metadata": {},
   "source": [
    "## 4. Model for Soil Quality Score Prediction"
   ]
  },
  {
   "cell_type": "code",
   "execution_count": null,
   "metadata": {},
   "source": [
    "# Train a Random Forest regressor for quality score\n",
    "rf_quality = RandomForestRegressor(n_estimators=100, random_state=42)\n",
    "rf_quality.fit(X_train_scaled, y_quality_train)\n",
    "\n",
    "# Make predictions\n",
    "y_quality_pred = rf_quality.predict(X_test_scaled)\n",
    "\n",
    "# Evaluate the model\n",
    "quality_mse = mean_squared_error(y_quality_test, y_quality_pred)\n",
    "quality_rmse = np.sqrt(quality_mse)\n",
    "quality_r2 = r2_score(y_quality_test, y_quality_pred)\n",
    "\n",
    "print(f\"Quality Score Prediction MSE: {quality_mse:.4f}\")\n",
    "print(f\"Quality Score Prediction RMSE: {quality_rmse:.4f}\")\n",
    "print(f\"Quality Score Prediction R²: {quality_r2:.4f}\")"
   ]
  },
  {
   "cell_type": "code",
   "execution_count": null,
   "metadata": {},
   "source": [
    "# Plot actual vs predicted quality scores\n",
    "plt.figure(figsize=(10, 6))\n",
    "plt.scatter(y_quality_test, y_quality_pred, alpha=0.5)\n",
    "plt.plot([y_quality_test.min(), y_quality_test.max()], [y_quality_test.min(), y_quality_test.max()], 'r--')\n",
    "plt.xlabel('Actual Quality Score')\n",
    "plt.ylabel('Predicted Quality Score')\n",
    "plt.title('Actual vs Predicted Soil Quality Scores')\n",
    "plt.show()"
   ]
  },
  {
   "cell_type": "code",
   "execution_count": null,
   "metadata": {},
   "source": [
    "# Feature importance for quality score prediction\n",
    "plt.figure(figsize=(10, 6))\n",
    "importances = rf_quality.feature_importances_\n",
    "indices = np.argsort(importances)[::-1]\n",
    "\n",
    "plt.title('Feature Importance for Soil Quality Score Prediction')\n",
    "plt.bar(range(X_train.shape[1]), importances[indices], align='center')\n",
    "plt.xticks(range(X_train.shape[1]), [features[i] for i in indices], rotation=90)\n",
    "plt.tight_layout()\n",
    "plt.show()"
   ]
  },
  {
   "cell_type": "markdown",
   "metadata": {},
   "source": [
    "## 5. Crop Suitability Model\n",
    "\n",
    "For crop suitability, we'll use a rule-based approach based on soil parameters."
   ]
  },
  {
   "cell_type": "code",
   "execution_count": null,
   "metadata": {},
   "source": [
    "def predict_suitable_crops(soil_params):\n",
    "    \"\"\"Predict suitable crops based on soil parameters.\"\"\"\n",
    "    nitrogen, phosphorus, potassium, ph, ec, moisture, organic_matter = soil_params\n",
    "    \n",
    "    suitable_crops = []\n",
    "    \n",
    "    # Rice\n",
    "    if 5.0 <= ph <= 7.5 and moisture > 60:\n",
    "        suitable_crops.append('Rice')\n",
    "    \n",
    "    # Wheat\n",
    "    if 6.0 <= ph <= 7.5 and nitrogen > 40:\n",
    "        suitable_crops.append('Wheat')\n",
    "    \n",
    "    # Corn\n",
    "    if 5.5 <= ph <= 7.5 and potassium > 50:\n",
    "        suitable_crops.append('Corn')\n",
    "    \n",
    "    # Soybeans\n",
    "    if 6.0 <= ph <= 7.0 and phosphorus > 40:\n",
    "        suitable_crops.append('Soybeans')\n",
    "    \n",
    "    # Cotton\n",
    "    if 5.5 <= ph <= 8.0 and ec < 3:\n",
    "        suitable_crops.append('Cotton')\n",
    "    \n",
    "    # Tomatoes\n",
    "    if 5.5 <= ph <= 7.5 and organic_matter > 3:\n",
    "        suitable_crops.append('Tomatoes')\n",
    "    \n",
    "    # Potatoes\n",
    "    if 4.8 <= ph <= 6.5 and moisture > 40:\n",
    "        suitable_crops.append('Potatoes')\n",
    "    \n",
    "    # Carrots\n",
    "    if 5.5 <= ph <= 7.0 and phosphorus > 30:\n",
    "        suitable_crops.append('Carrots')\n",
    "    \n",
    "    # Lettuce\n",
    "    if 6.0 <= ph <= 7.0 and nitrogen > 30:\n",
    "        suitable_crops.append('Lettuce')\n",
    "    \n",
    "    # Spinach\n",
    "    if 6.0 <= ph <= 7.5 and nitrogen > 50:\n",
    "        suitable_crops.append('Spinach')\n",
    "    \n",
    "    return suitable_crops"
   ]
  },
  {
   "cell_type": "code",
   "execution_count": null,
   "metadata": {},
   "source": [
    "# Test the crop suitability function\n",
    "sample_params = X_test.iloc[0].values\n",
    "print(f\"Sample soil parameters: {sample_params}\")\n",
    "suitable_crops = predict_suitable_crops(sample_params)\n",
    "print(f\"Suitable crops: {suitable_crops}\")"
   ]
  },
  {
   "cell_type": "markdown",
   "metadata": {},
   "source": [
    "## 6. Save the Models"
   ]
  },
  {
   "cell_type": "code",
   "execution_count": null,
   "metadata": {},
   "source": [
    "import pickle\n",
    "\n",
    "# Save the models\n",
    "with open('../models/fertility_model.pkl', 'wb') as f:\n",
    "    pickle.dump(rf_fertility, f)\n",
    "\n",
    "with open('../models/quality_model.pkl', 'wb') as f:\n",
    "    pickle.dump(rf_quality, f)\n",
    "\n",
    "# Save the scaler\n",
    "with open('../models/scaler.pkl', 'wb') as f:\n",
    "    pickle.dump(scaler, f)\n",
    "\n",
    "# Save the label encoder\n",
    "with open('../models/label_encoder.pkl', 'wb') as f:\n",
    "    pickle.dump(le, f)\n",
    "\n",
    "print(\"Models saved successfully!\")"
   ]
  },
  {
   "cell_type": "markdown",
   "metadata": {},
   "source": [
    "## 7. Model Testing with Sample Input"
   ]
  },
  {
   "cell_type": "code",
   "execution_count": null,
   "metadata": {},
   "source": [
    "def predict_soil_health(nitrogen, phosphorus, potassium, ph, ec, moisture, organic_matter):\n",
    "    \"\"\"Make predictions for soil health based on input parameters.\"\"\"\n",
    "    # Prepare input data\n",
    "    input_data = np.array([[nitrogen, phosphorus, potassium, ph, ec, moisture, organic_matter]])\n",
    "    \n",
    "    # Scale the input data\n",
    "    input_scaled = scaler.transform(input_data)\n",
    "    \n",
    "    # Predict fertility level\n",
    "    fertility_pred = rf_fertility.predict(input_scaled)[0]\n",
    "    fertility_level = le.inverse_transform([fertility_pred])[0]\n",
    "    \n",
    "    # Predict quality score\n",
    "    quality_score = rf_quality.predict(input_scaled)[0]\n",
    "    \n",
    "    # Predict suitable crops\n",
    "    suitable_crops = predict_suitable_crops([nitrogen, phosphorus, potassium, ph, ec, moisture, organic_matter])\n",
    "    \n",
    "    return {\n",
    "        'fertility_level': fertility_level,\n",
    "        'quality_score': round(quality_score, 1),\n",
    "        'suitable_crops': suitable_crops\n",
    "    }"
   ]
  },
  {
   "cell_type": "code",
   "execution_count": null,
   "metadata": {},
   "source": [
    "# Test with sample inputs\n",
    "test_cases = [\n",
    "    # High fertility soil\n",
    "    {'nitrogen': 80, 'phosphorus': 75, 'potassium': 85, 'ph': 6.5, 'ec': 1.2, 'moisture': 60, 'organic_matter': 7.5},\n",
    "    # Medium fertility soil\n",
    "    {'nitrogen': 45, 'phosphorus': 40, 'potassium': 50, 'ph': 7.0, 'ec': 2.0, 'moisture': 45, 'organic_matter': 4.0},\n",
    "    # Low fertility soil\n",
    "    {'nitrogen': 15, 'phosphorus': 10, 'potassium': 20, 'ph': 5.0, 'ec': 3.5, 'moisture': 30, 'organic_matter': 1.5}\n",
    "]\n",
    "\n",
    "for i, case in enumerate(test_cases):\n",
    "    print(f\"\\nTest Case {i+1}:\")\n",
    "    print(f\"Input: {case}\")\n",
    "    result = predict_soil_health(\n",
    "        case['nitrogen'], case['phosphorus'], case['potassium'], \n",
    "        case['ph'], case['ec'], case['moisture'], case['organic_matter']\n",
    "    )\n",
    "    print(f\"Predicted Fertility Level: {result['fertility_level']}\")\n",
    "    print(f\"Predicted Quality Score: {result['quality_score']}\")\n",
    "    print(f\"Suitable Crops: {', '.join(result['suitable_crops'])}\")"
   ]
  }
 ],
 "metadata": {
  "kernelspec": {
   "display_name": "Python 3",
   "language": "python",
   "name": "python3"
  },
  "language_info": {
   "codemirror_mode": {
    "name": "ipython",
    "version": 3
   },
   "file_extension": ".py",
   "mimetype": "text/x-python",
   "name": "python",
   "nbconvert_exporter": "python",
   "pygments_lexer": "ipython3",
   "version": "3.8.10"
  }
 },
 "nbformat": 4,
 "nbformat_minor": 4
}
